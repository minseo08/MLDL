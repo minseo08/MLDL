{
  "cells": [
    {
      "cell_type": "markdown",
      "metadata": {
        "id": "Yd1qMd6t2AbC"
      },
      "source": [
        "# Colab Setup"
      ]
    },
    {
      "cell_type": "code",
      "source": [
        "from google.colab import drive\n",
        "drive.mount('/content/drive')"
      ],
      "metadata": {
        "id": "IxwOGS6kuDrg"
      },
      "execution_count": null,
      "outputs": []
    },
    {
      "cell_type": "code",
      "source": [
        "\"\"\"\n",
        "Change directory to where this file is located\n",
        "\"\"\"\n",
        "%cd 'your directory'"
      ],
      "metadata": {
        "id": "A82mKUo5uCPu"
      },
      "execution_count": null,
      "outputs": []
    },
    {
      "cell_type": "markdown",
      "metadata": {
        "id": "lSVjb8wq2KYK"
      },
      "source": [
        "# Import Modules"
      ]
    },
    {
      "cell_type": "code",
      "execution_count": null,
      "metadata": {
        "id": "zys4kqK22GKD"
      },
      "outputs": [],
      "source": [
        "import cv2\n",
        "import random\n",
        "import numpy as np\n",
        "import matplotlib.pyplot as plt"
      ]
    },
    {
      "cell_type": "markdown",
      "metadata": {
        "id": "hHiHeomH2Nmr"
      },
      "source": [
        "# Load Images"
      ]
    },
    {
      "cell_type": "code",
      "source": [
        "\"\"\"\n",
        "DO NOT MODIFY THIS SECTION\n",
        "\"\"\"\n",
        "\n",
        "img = cv2.imread(\"img.jpeg\")\n",
        "img = cv2.cvtColor(img, cv2.COLOR_BGR2RGB)\n",
        "\n",
        "img = img.astype(np.float32) / 255.\n",
        "img = cv2.resize(img, (512, 362))\n",
        "\n",
        "img.shape"
      ],
      "metadata": {
        "id": "gsNzXj4fuAFm"
      },
      "execution_count": null,
      "outputs": []
    },
    {
      "cell_type": "code",
      "execution_count": null,
      "metadata": {
        "id": "maBYtAEAdvwG"
      },
      "outputs": [],
      "source": [
        "plt.imshow(img)"
      ]
    },
    {
      "cell_type": "markdown",
      "source": [
        "# Image Compression with K-Means Clustering"
      ],
      "metadata": {
        "id": "ObFLPPwNCV_n"
      }
    },
    {
      "cell_type": "code",
      "execution_count": null,
      "metadata": {
        "id": "4u5VtgttHKxY"
      },
      "outputs": [],
      "source": [
        "class kMeansImageCompression:\n",
        "  def __init__(self, k = 1, img = None, max_iter = 1):\n",
        "    self.k = k  # Number of centroids\n",
        "    self.img = img  # input image dim = (H,W,3)\n",
        "    self.max_iter = max_iter  # number of iterations\n",
        "\n",
        "    self.centroid_list = None # list of pixel values of selected centroids dim = (k,3)\n",
        "    self.J = None  # value of J in the Lecture 11 slide number 27\n",
        "    self.compressed_img = np.empty((img.shape[0], img.shape[1], img.shape[2]))  # output image\n",
        "\n",
        "\n",
        "  def initialize_centroid(self):\n",
        "    \"\"\"\n",
        "    DO NOT MODIFY THIS SECTION.\n",
        "\n",
        "    Initialize the centroids. Pick k random pixels as cluster centers.\n",
        "    \"\"\"\n",
        "    np.random.seed(123)\n",
        "    rand_H = np.random.randint(self.img.shape[0], size = self.k)\n",
        "    rand_W = np.random.randint(self.img.shape[1], size = self.k)\n",
        "\n",
        "    self.centroid_list = self.img[rand_H, rand_W]\n",
        "\n",
        "  def assign_cluster(self, centroid_list):\n",
        "    \"\"\"\n",
        "    Assign each pixel to the closest cluster center.\n",
        "\n",
        "    ### Question (a) ###\n",
        "    TO DO:\n",
        "     - Calculate the distances between each pixel\n",
        "       and centroid given centroid_list and store in 'distances'\n",
        "       Dimension of distances = (k, H, W)\n",
        "\n",
        "     - Assign each pixel to the closest centroid\n",
        "       and store the index of assigned centroid for each pixel in 'label'\n",
        "       Dimension of label = (H, W)\n",
        "\n",
        "    Args:\n",
        "      centroid_list\n",
        "    Returns:\n",
        "      distances, label\n",
        "    \"\"\"\n",
        "\n",
        "    ###########################\n",
        "    ### YOUR IMPLEMENTATION ###\n",
        "    ###########################\n",
        "\n",
        "    return distances, label\n",
        "\n",
        "  def update_cluster(self, label):\n",
        "    \"\"\"\n",
        "    Update the centroids.\n",
        "\n",
        "    ### Question (b) ###\n",
        "    TO DO:\n",
        "     - Update the self.centroid_list given 'label'\n",
        "\n",
        "    Args:\n",
        "      label\n",
        "    Returns:\n",
        "      None\n",
        "    \"\"\"\n",
        "\n",
        "    ###########################\n",
        "    ### YOUR IMPLEMENTATION ###\n",
        "    ###########################\n",
        "\n",
        "\n",
        "  def calculate_J(self, distances):\n",
        "    \"\"\"\n",
        "    Caculate the value of J.\n",
        "\n",
        "    ### Question (c) ###\n",
        "    TO DO:\n",
        "     - Calculate the value of J given 'distances'\n",
        "       and store the value in self.J\n",
        "\n",
        "    Args:\n",
        "      distances\n",
        "    Returns:\n",
        "      None\n",
        "    \"\"\"\n",
        "    ###########################\n",
        "    ### YOUR IMPLEMENTATION ###\n",
        "    ###########################\n",
        "\n",
        "\n",
        "  def comp_img(self, label, centroid_list):\n",
        "    \"\"\"\n",
        "    DO NOT MODIFY THIS SECTION\n",
        "\n",
        "    Produce the compressed image.\n",
        "    \"\"\"\n",
        "    for idx, (i, j) in enumerate(np.ndindex(self.img.shape[:2])):\n",
        "      self.compressed_img[i, j] = centroid_list[label[i, j]]\n",
        "\n",
        "\n",
        "  def kmeans_imgcomp(self):\n",
        "    \"\"\"\n",
        "    Update the centroid list with max_iter times.\n",
        "\n",
        "    ### Question (d) ###\n",
        "\n",
        "    TO DO:\n",
        "     - Using the above implementations,\n",
        "          update the centroids for self.max_iter times\n",
        "          and assign the pixels to the closest centroid in final self.centroid_list\n",
        "              to get final 'distances' and 'label'.\n",
        "    *** NO initialization of centroids needed ***\n",
        "\n",
        "    Args:\n",
        "      None\n",
        "    Returns:\n",
        "      self.compressed_image, self.J\n",
        "    \"\"\"\n",
        "    ###########################\n",
        "    ### YOUR IMPLEMENTATION ###\n",
        "    ###########################\n",
        "\n",
        "\n",
        "    \"\"\"\n",
        "    DO NOT MODIFY BELOW\n",
        "    \"\"\"\n",
        "    self.calculate_J(distances)\n",
        "    self.comp_img(label, self.centroid_list)\n",
        "\n",
        "    return self.compressed_img, self.J\n",
        "\n"
      ]
    },
    {
      "cell_type": "markdown",
      "source": [
        "# Choosing the value of k"
      ],
      "metadata": {
        "id": "jd0gUgF9Ftw9"
      }
    },
    {
      "cell_type": "code",
      "execution_count": null,
      "metadata": {
        "id": "yv-JdUfelTrA"
      },
      "outputs": [],
      "source": [
        "\"\"\"\n",
        "DO NOT MODIFY THIS SECTION\n",
        "\n",
        "***  If your implementation is efficient enough,   ***\n",
        "***      this cell will be run within 2 mins.      ***\n",
        "\n",
        "Plotting the value of J for each value of k.\n",
        "\"\"\"\n",
        "\n",
        "k_list = np.arange(1, 20, step = 1)\n",
        "J_list = []\n",
        "for i in k_list:\n",
        "  ic = kMeansImageCompression(i, img, max_iter = 20)\n",
        "  ic.initialize_centroid()\n",
        "  _, J = ic.kmeans_imgcomp()\n",
        "  J_list.append(J)\n",
        "\n",
        "plt.plot(k_list, J_list)\n",
        "plt.xticks(np.arange(1, 20, 1))\n",
        "plt.show()"
      ]
    },
    {
      "cell_type": "code",
      "source": [
        "\"\"\"\n",
        "### Question (e) ###\n",
        "According to the above plot, select your k and explain your choice.\n",
        "\"\"\"\n",
        "your_k = ### your selected k ###\n",
        "print(your_k)"
      ],
      "metadata": {
        "id": "iQiPcZlnFgns"
      },
      "execution_count": null,
      "outputs": []
    },
    {
      "cell_type": "markdown",
      "source": [
        "Write your explanation here in this cell."
      ],
      "metadata": {
        "id": "J0CuEcI7g_y3"
      }
    },
    {
      "cell_type": "markdown",
      "source": [
        "# Final Compressed Image"
      ],
      "metadata": {
        "id": "slXAA7GxFy_j"
      }
    },
    {
      "cell_type": "code",
      "source": [
        "\"\"\"\n",
        "DO NOT MODIFY THIS SECTION\n",
        "\n",
        "### Question (f) ###\n",
        "TO DO:\n",
        " - Run this cell for the final compressed image\n",
        "\"\"\"\n",
        "your_ic = kMeansImageCompression(your_k, img, max_iter = 20)\n",
        "your_ic.initialize_centroid()\n",
        "final_img, _ = your_ic.kmeans_imgcomp()\n",
        "\n",
        "plt.imshow(final_img)"
      ],
      "metadata": {
        "id": "2yztkBO8Fdft"
      },
      "execution_count": null,
      "outputs": []
    },
    {
      "cell_type": "code",
      "source": [],
      "metadata": {
        "id": "s7RvxA20iZm7"
      },
      "execution_count": null,
      "outputs": []
    }
  ],
  "metadata": {
    "colab": {
      "provenance": [],
      "toc_visible": true
    },
    "kernelspec": {
      "display_name": "Python 3",
      "name": "python3"
    },
    "language_info": {
      "codemirror_mode": {
        "name": "ipython",
        "version": 3
      },
      "file_extension": ".py",
      "mimetype": "text/x-python",
      "name": "python",
      "nbconvert_exporter": "python",
      "pygments_lexer": "ipython3",
      "version": "3.8.15"
    }
  },
  "nbformat": 4,
  "nbformat_minor": 0
}