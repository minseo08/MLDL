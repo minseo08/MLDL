{
  "cells": [
    {
      "cell_type": "markdown",
      "source": [
        "# 0. Setting"
      ],
      "metadata": {
        "id": "bZx-0zY-BQ0K"
      }
    },
    {
      "cell_type": "markdown",
      "source": [
        "### Google Colab"
      ],
      "metadata": {
        "id": "onJJrTDOBbBm"
      }
    },
    {
      "cell_type": "code",
      "source": [
        "from google.colab import drive\n",
        "drive.mount('/content/drive')"
      ],
      "metadata": {
        "id": "24vGWMsLBXRX",
        "colab": {
          "base_uri": "https://localhost:8080/"
        },
        "outputId": "96185ccb-090c-4b6f-ba09-cf9a5f3ffa2a"
      },
      "execution_count": 1,
      "outputs": [
        {
          "output_type": "stream",
          "name": "stdout",
          "text": [
            "Mounted at /content/drive\n"
          ]
        }
      ]
    },
    {
      "cell_type": "code",
      "source": [
        "# PLEASE SPECIFY THE PATH OF THIS FILE HERE\n",
        "%cd '/content/drive/MyDrive/chanwoo/MLDL1'"
      ],
      "metadata": {
        "id": "zIFmRA8gBXZV"
      },
      "execution_count": null,
      "outputs": []
    },
    {
      "cell_type": "markdown",
      "metadata": {
        "id": "Ec82ZDxDBPpr"
      },
      "source": [
        "# 1. Tensor"
      ]
    },
    {
      "cell_type": "code",
      "execution_count": 3,
      "metadata": {
        "id": "3dN3u8eoBPpw"
      },
      "outputs": [],
      "source": [
        "import torch"
      ]
    },
    {
      "cell_type": "markdown",
      "metadata": {
        "id": "Fgxwg7UbBPpx"
      },
      "source": [
        "### 1-1. Tensor Generations"
      ]
    },
    {
      "cell_type": "code",
      "execution_count": 4,
      "metadata": {
        "id": "Btk-mbKtBPpx",
        "outputId": "47ff5575-f5a6-42b3-9784-af5450400da6",
        "colab": {
          "base_uri": "https://localhost:8080/"
        }
      },
      "outputs": [
        {
          "output_type": "stream",
          "name": "stdout",
          "text": [
            "tensor([[1, 2, 3],\n",
            "        [4, 5, 6]])\n"
          ]
        }
      ],
      "source": [
        "# Tensor Generations from Data\n",
        "array = [[1,2,3], [4,5,6]]\n",
        "tensor = torch.tensor(array)\n",
        "print(tensor)"
      ]
    },
    {
      "cell_type": "code",
      "execution_count": 5,
      "metadata": {
        "id": "BVg9eFOhBPpy",
        "outputId": "7e4d0ec2-5bd9-4f56-a80d-5754998dafd7",
        "colab": {
          "base_uri": "https://localhost:8080/"
        }
      },
      "outputs": [
        {
          "output_type": "stream",
          "name": "stdout",
          "text": [
            "tensor([[0., 0., 0.],\n",
            "        [0., 0., 0.]])\n",
            "\n",
            "tensor([0, 1, 2, 3])\n",
            "\n",
            "tensor([[0.0369, 0.8804],\n",
            "        [0.7560, 0.9740]])\n",
            "\n"
          ]
        }
      ],
      "source": [
        "# Tensor Generations by Methods\n",
        "t1 = torch.zeros(2,3)\n",
        "t2 = torch.arange(4)\n",
        "t3 = torch.rand(2,2)\n",
        "\n",
        "print(t1)\n",
        "print()\n",
        "print(t2)\n",
        "print()\n",
        "print(t3)\n",
        "print()"
      ]
    },
    {
      "cell_type": "markdown",
      "metadata": {
        "id": "QuEgOUsNBPpz"
      },
      "source": [
        "### 1-2. Tensor Attributes"
      ]
    },
    {
      "cell_type": "code",
      "execution_count": 6,
      "metadata": {
        "id": "xGjaOoORBPpz",
        "outputId": "ad1b62da-f49b-4c80-b4bc-89829ebed0a7",
        "colab": {
          "base_uri": "https://localhost:8080/"
        }
      },
      "outputs": [
        {
          "output_type": "stream",
          "name": "stdout",
          "text": [
            "tensor([[1, 2, 3],\n",
            "        [4, 5, 6]])\n",
            "torch.Size([2, 3])\n",
            "torch.int64\n",
            "cpu\n"
          ]
        }
      ],
      "source": [
        "# Tensor Attributes - shape, dtype, device\n",
        "t = torch.tensor([[1,2,3],\n",
        "                  [4,5,6]])\n",
        "\n",
        "print(t)\n",
        "print(t.shape)\n",
        "print(t.dtype)\n",
        "print(t.device)"
      ]
    },
    {
      "cell_type": "code",
      "execution_count": 7,
      "metadata": {
        "id": "3y6qv_boBPpz",
        "outputId": "253926f1-c910-4e1f-d245-25294d40fd65",
        "colab": {
          "base_uri": "https://localhost:8080/"
        }
      },
      "outputs": [
        {
          "output_type": "stream",
          "name": "stdout",
          "text": [
            "cpu\n",
            "cuda:0\n"
          ]
        }
      ],
      "source": [
        "# Tensor Attributes - to(device)\n",
        "t = torch.tensor([[1,2,3],\n",
        "                  [4,5,6]])\n",
        "print(t.device)\n",
        "\n",
        "device = torch.device('cuda' if torch.cuda.is_available() else 'cpu')\n",
        "t_gpu = t.to(device)\n",
        "print(t_gpu.device)"
      ]
    },
    {
      "cell_type": "markdown",
      "metadata": {
        "id": "gsLd-WTCBPp0"
      },
      "source": [
        "### 1-3. Tensor Manipulations"
      ]
    },
    {
      "cell_type": "code",
      "execution_count": 8,
      "metadata": {
        "id": "ylN3LAA8BPp0",
        "outputId": "1c265f97-13db-4a46-8df0-25152187acb0",
        "colab": {
          "base_uri": "https://localhost:8080/"
        }
      },
      "outputs": [
        {
          "output_type": "stream",
          "name": "stdout",
          "text": [
            "torch.Size([6])\n",
            "tensor([0, 1, 2, 3, 4, 5])\n",
            "\n",
            "torch.Size([2, 3])\n",
            "tensor([[0, 1, 2],\n",
            "        [3, 4, 5]])\n"
          ]
        }
      ],
      "source": [
        "# Tensor Shape - reshape\n",
        "t1 = torch.arange(6)\n",
        "print(t1.shape)\n",
        "print(t1)\n",
        "print()\n",
        "\n",
        "t1_reshaped = t1.reshape(2,3)\n",
        "print(t1_reshaped.shape)\n",
        "print(t1_reshaped)"
      ]
    },
    {
      "cell_type": "code",
      "execution_count": 9,
      "metadata": {
        "id": "3RVMuGiPBPp1",
        "outputId": "cca9574a-a900-4c5a-b332-cbc4541aa6e1",
        "colab": {
          "base_uri": "https://localhost:8080/"
        }
      },
      "outputs": [
        {
          "output_type": "stream",
          "name": "stdout",
          "text": [
            "tensor([[0, 1, 2],\n",
            "        [3, 4, 5]])\n",
            "\n",
            "torch.Size([2, 1, 3])\n",
            "tensor([[[0, 1, 2]],\n",
            "\n",
            "        [[3, 4, 5]]])\n"
          ]
        }
      ],
      "source": [
        "# Tensor Shape - squeeze, unsqueeze\n",
        "t1 = torch.arange(6).reshape(2,3)\n",
        "print(t1)\n",
        "print()\n",
        "\n",
        "t1_unsqueeze = t1.unsqueeze(1)\n",
        "print(t1_unsqueeze.shape)\n",
        "print(t1_unsqueeze)"
      ]
    },
    {
      "cell_type": "code",
      "execution_count": 10,
      "metadata": {
        "id": "C5zx1ENcBPp2",
        "outputId": "6c06e695-b301-41ac-8735-8765ae5a35a6",
        "colab": {
          "base_uri": "https://localhost:8080/"
        }
      },
      "outputs": [
        {
          "output_type": "stream",
          "name": "stdout",
          "text": [
            "tensor([[0, 1, 2],\n",
            "        [3, 4, 5]])\n",
            "tensor([[0, 1],\n",
            "        [2, 3],\n",
            "        [4, 5]])\n",
            "tensor([[0, 3],\n",
            "        [1, 4],\n",
            "        [2, 5]])\n"
          ]
        }
      ],
      "source": [
        "# Tensor Shape - permute\n",
        "t1 = torch.arange(6).reshape(2,3)\n",
        "print(t1)\n",
        "\n",
        "t1_reshape = t1.reshape(3,2)\n",
        "t1_permute = t1.permute(1,0)\n",
        "print(t1_reshape)\n",
        "print(t1_permute)"
      ]
    },
    {
      "cell_type": "markdown",
      "metadata": {
        "id": "X3qm2V89BPp2"
      },
      "source": [
        "### 1-4. Tensor Operations"
      ]
    },
    {
      "cell_type": "code",
      "execution_count": 11,
      "metadata": {
        "id": "AJ6ps_caBPp2",
        "outputId": "a6ca6e59-ef6a-4843-c13c-6bd5b22f0b6d",
        "colab": {
          "base_uri": "https://localhost:8080/"
        }
      },
      "outputs": [
        {
          "output_type": "stream",
          "name": "stdout",
          "text": [
            "<t1>\n",
            "tensor([[0, 1, 2],\n",
            "        [3, 4, 5]])\n",
            "\n",
            "<t2>\n",
            "tensor([[ 0,  1,  2],\n",
            "        [ 3,  4,  5],\n",
            "        [ 6,  7,  8],\n",
            "        [ 9, 10, 11]])\n",
            "\n",
            "<t1> torch.Size([2, 3])\n",
            "<t2> torch.Size([3, 4])\n",
            "<t3> torch.Size([2, 4])\n"
          ]
        }
      ],
      "source": [
        "# Matrix multiplication\n",
        "t1 = torch.arange(6).reshape(2,3)\n",
        "t2 = torch.arange(12).reshape(4,3)\n",
        "print(f'<t1>\\n{t1}')\n",
        "print()\n",
        "print(f'<t2>\\n{t2}')\n",
        "print()\n",
        "\n",
        "t2 = t2.transpose(0,1)\n",
        "print(f'<t1> {t1.shape}')\n",
        "print(f'<t2> {t2.shape}')\n",
        "\n",
        "t3 = t1 @ t2\n",
        "# Same as torch.matmul(t1, t2)\n",
        "print(f'<t3> {t3.shape}')"
      ]
    },
    {
      "cell_type": "code",
      "execution_count": 12,
      "metadata": {
        "id": "D_4InXKTBPp3",
        "outputId": "ca0d95b8-b36f-445c-86ce-3ad683eeab3e",
        "colab": {
          "base_uri": "https://localhost:8080/"
        }
      },
      "outputs": [
        {
          "output_type": "stream",
          "name": "stdout",
          "text": [
            "<t1>\n",
            "shape: torch.Size([2, 3])\n",
            "tensor([[3, 6, 4],\n",
            "        [2, 4, 7]])\n"
          ]
        }
      ],
      "source": [
        "# argmax, sum\n",
        "t1 = torch.tensor([\n",
        "    [3,6,4],\n",
        "    [2,4,7]\n",
        "])\n",
        "print(f'<t1>\\nshape: {t1.shape}\\n{t1}')"
      ]
    },
    {
      "cell_type": "code",
      "execution_count": 13,
      "metadata": {
        "id": "zhUWHoPXBPp3",
        "outputId": "998a7473-f658-4217-e6e4-1c4aa5da2408",
        "colab": {
          "base_uri": "https://localhost:8080/"
        }
      },
      "outputs": [
        {
          "output_type": "stream",
          "name": "stdout",
          "text": [
            "tensor([0, 0, 1])\n",
            "tensor([[0, 0, 1]])\n",
            "tensor([ 5, 10, 11])\n"
          ]
        }
      ],
      "source": [
        "# argmax, sum\n",
        "col_argmax = torch.argmax(t1, dim=0)\n",
        "print(col_argmax)\n",
        "\n",
        "col_argmax_keepdim = torch.argmax(t1, dim=0, keepdim=True)\n",
        "print(col_argmax_keepdim)\n",
        "\n",
        "col_sum = torch.sum(t1, dim=0)\n",
        "print(col_sum)"
      ]
    },
    {
      "cell_type": "code",
      "execution_count": 14,
      "metadata": {
        "id": "4CczdJC-BPp3",
        "outputId": "5b7c6faf-6986-4881-c949-4d1c91934638",
        "colab": {
          "base_uri": "https://localhost:8080/"
        }
      },
      "outputs": [
        {
          "output_type": "stream",
          "name": "stdout",
          "text": [
            "torch.Size([3]) torch.Size([3])\n",
            "\n",
            "<stack_0>\n",
            "torch.Size([2, 3])\n",
            "tensor([[1, 2, 3],\n",
            "        [4, 5, 6]])\n",
            "\n",
            "<stack_1>\n",
            "torch.Size([3, 2])\n",
            "tensor([[1, 4],\n",
            "        [2, 5],\n",
            "        [3, 6]])\n"
          ]
        }
      ],
      "source": [
        "# stack\n",
        "x1 = torch.tensor([1,2,3])\n",
        "x2 = torch.tensor([4,5,6])\n",
        "print(x1.shape, x2.shape)\n",
        "print()\n",
        "\n",
        "stack_0 = torch.stack([x1, x2], dim=0)\n",
        "print(f'<stack_0>\\n{stack_0.shape}\\n{stack_0}')\n",
        "print()\n",
        "\n",
        "stack_1 = torch.stack([x1, x2], dim=1)\n",
        "print(f'<stack_1>\\n{stack_1.shape}\\n{stack_1}')"
      ]
    },
    {
      "cell_type": "code",
      "execution_count": 15,
      "metadata": {
        "id": "xhZTQVukBPp3",
        "outputId": "3fd5f2a4-5e9c-4926-e044-87f4558c6b69",
        "colab": {
          "base_uri": "https://localhost:8080/"
        }
      },
      "outputs": [
        {
          "output_type": "stream",
          "name": "stdout",
          "text": [
            "torch.Size([3]) torch.Size([3])\n",
            "\n",
            "<concat>\n",
            "torch.Size([6])\n",
            "tensor([1, 2, 3, 4, 5, 6])\n"
          ]
        }
      ],
      "source": [
        "# cat\n",
        "x1 = torch.tensor([1,2,3])\n",
        "x2 = torch.tensor([4,5,6])\n",
        "print(x1.shape, x2.shape)\n",
        "print()\n",
        "\n",
        "concat = torch.cat([x1, x2], dim=0)\n",
        "print(f'<concat>\\n{concat.shape}\\n{concat}')"
      ]
    },
    {
      "cell_type": "markdown",
      "metadata": {
        "id": "0SjKN9nZBPp4"
      },
      "source": [
        "### 1-5. Autograd Engine"
      ]
    },
    {
      "cell_type": "code",
      "execution_count": 16,
      "metadata": {
        "id": "EBsRsLF6BPp4",
        "outputId": "35943df2-d78d-4e81-e596-8972f7f252fa",
        "colab": {
          "base_uri": "https://localhost:8080/"
        }
      },
      "outputs": [
        {
          "output_type": "stream",
          "name": "stdout",
          "text": [
            "None\n",
            "None\n",
            "tensor(-4.)\n",
            "tensor(-4.)\n",
            "tensor(3.)\n"
          ]
        }
      ],
      "source": [
        "x = torch.tensor(-2.0, requires_grad = True)\n",
        "y = torch.tensor(5.0, requires_grad = True)\n",
        "z = torch.tensor(-4.0, requires_grad = True)\n",
        "print(x.grad)\n",
        "\n",
        "f = (x + y) * z\n",
        "print(x.grad)\n",
        "\n",
        "f.backward()\n",
        "\n",
        "print(x.grad)\n",
        "print(y.grad)\n",
        "print(z.grad)"
      ]
    },
    {
      "cell_type": "markdown",
      "metadata": {
        "id": "CA5AIhVWBPp4"
      },
      "source": [
        "Example of Backpropagation in 2-layer Neural Network\n",
        "\n",
        "<img src = \"https://drive.google.com/uc?id=1pyZiWipSU8v8NEoyfDDxIaRXOgNlFwon\" height = 400>"
      ]
    },
    {
      "cell_type": "code",
      "execution_count": 17,
      "metadata": {
        "id": "PF9nSgNGBPp4",
        "outputId": "12301677-93f4-436a-d6e4-d5ab34651c66",
        "colab": {
          "base_uri": "https://localhost:8080/"
        }
      },
      "outputs": [
        {
          "output_type": "stream",
          "name": "stdout",
          "text": [
            "tensor([[1.3853, 0.0276, 0.0000, 0.1741, 0.0000],\n",
            "        [1.3853, 0.0276, 0.0000, 0.1741, 0.0000],\n",
            "        [1.3853, 0.0276, 0.0000, 0.1741, 0.0000],\n",
            "        [1.3853, 0.0276, 0.0000, 0.1741, 0.0000],\n",
            "        [1.3853, 0.0276, 0.0000, 0.1741, 0.0000],\n",
            "        [1.3853, 0.0276, 0.0000, 0.1741, 0.0000],\n",
            "        [1.3853, 0.0276, 0.0000, 0.1741, 0.0000]])\n",
            "tensor([1.3853, 0.0276, 0.0000, 0.1741, 0.0000])\n",
            "tensor([[0.0161, 0.3779, 0.0025],\n",
            "        [0.0156, 0.3676, 0.0025],\n",
            "        [0.0000, 0.0000, 0.0000],\n",
            "        [0.0477, 1.1232, 0.0075],\n",
            "        [0.0000, 0.0000, 0.0000]])\n",
            "tensor([0.0141, 0.3324, 0.0022])\n"
          ]
        }
      ],
      "source": [
        "import torch.nn.functional as F\n",
        "\"\"\"\n",
        "F.relu() for ReLU layer.\n",
        "ex) y = F.relu(x)\n",
        "\"\"\"\n",
        "\n",
        "x = torch.ones(7) # input: (7,)\n",
        "y = torch.zeros(3) # output: (3,)\n",
        "\n",
        "# Generate w1, b1, w2, b2\n",
        "w1 = torch.randn(7,5, requires_grad=True) # (7,) @ (7,5) = (5,)\n",
        "b1 = torch.randn(5, requires_grad=True) # (5,)\n",
        "w2 = torch.randn(5,3, requires_grad=True) # (5,) @ (5,3) = (3,)\n",
        "b2 = torch.randn(3, requires_grad=True) # (3,)\n",
        "\n",
        "# Compute z1\n",
        "z1 = x @ w1 + b1 # (5,)\n",
        "\n",
        "# Compute z2\n",
        "z2 = F.relu(z1) # (5,)\n",
        "\n",
        "# Compute z3\n",
        "z3 = z2 @ w2 + b2 # (3,)\n",
        "\n",
        "# Calculate loss\n",
        "loss = F.binary_cross_entropy_with_logits(z3, y)\n",
        "\n",
        "# Backpropagation\n",
        "loss.backward()\n",
        "\n",
        "# Print the gradient of w and b\n",
        "print(w1.grad)\n",
        "print(b1.grad)\n",
        "print(w2.grad)\n",
        "print(b2.grad)"
      ]
    },
    {
      "cell_type": "markdown",
      "metadata": {
        "id": "BhKEheG4BPp4"
      },
      "source": [
        "# 2. Intro to ML/DL Implementation"
      ]
    },
    {
      "cell_type": "markdown",
      "metadata": {
        "id": "69R4_JskBPp4"
      },
      "source": [
        "### 2-1. Dataset and DataLoader"
      ]
    },
    {
      "cell_type": "code",
      "execution_count": 18,
      "metadata": {
        "id": "cOtkntCnBPp5"
      },
      "outputs": [],
      "source": [
        "from torch.utils.data import Dataset\n",
        "from torch.utils.data import DataLoader"
      ]
    },
    {
      "cell_type": "code",
      "execution_count": 19,
      "metadata": {
        "id": "ddmObLaYBPp5"
      },
      "outputs": [],
      "source": [
        "import numpy as np\n",
        "from PIL import Image\n",
        "\n",
        "class SimpleDataset(Dataset):\n",
        "  def __init__(self):\n",
        "    lines = []\n",
        "    with open('data/mini_MNIST/annotations.txt', 'r') as f:\n",
        "        lines = f.readlines()\n",
        "\n",
        "    self.img_label_pairs = []\n",
        "    for line in lines:\n",
        "        self.img_label_pairs.append(line.strip().split(','))\n",
        "\n",
        "  def __getitem__(self, idx):\n",
        "    # get image path and label corresponding to idx\n",
        "    img_path, label = self.img_label_pairs[idx]\n",
        "\n",
        "    # load image file and convert to numpy array\n",
        "    img = Image.open('data/mini_MNIST/' + img_path)\n",
        "    img = np.array(img)\n",
        "\n",
        "    # load label and convert to integer\n",
        "    label = int(label)\n",
        "\n",
        "    return img, label\n",
        "\n",
        "  def __len__(self):\n",
        "    return len(self.img_label_pairs)"
      ]
    },
    {
      "cell_type": "code",
      "execution_count": 20,
      "metadata": {
        "id": "jq_2lqBABPp5"
      },
      "outputs": [],
      "source": [
        "dataset = SimpleDataset()\n",
        "dataloader = DataLoader(dataset, batch_size=10, shuffle=True)"
      ]
    },
    {
      "cell_type": "code",
      "execution_count": 21,
      "metadata": {
        "id": "Auizbw6eBPp5",
        "outputId": "53beb447-48b4-4ec8-d52c-4f52afb4822b",
        "colab": {
          "base_uri": "https://localhost:8080/"
        }
      },
      "outputs": [
        {
          "output_type": "stream",
          "name": "stdout",
          "text": [
            "idx: 1, img shape: (28, 28), label: 2\n"
          ]
        }
      ],
      "source": [
        "# get the image and label using index\n",
        "idx = 1\n",
        "img, label = dataset[idx]\n",
        "print(f'idx: {idx}, img shape: {img.shape}, label: {label}')"
      ]
    },
    {
      "cell_type": "code",
      "execution_count": 22,
      "metadata": {
        "id": "dKGhl5S3BPp5",
        "outputId": "38240ea6-710a-4c62-9d23-a9958b828d36",
        "colab": {
          "base_uri": "https://localhost:8080/",
          "height": 449
        }
      },
      "outputs": [
        {
          "output_type": "execute_result",
          "data": {
            "text/plain": [
              "<matplotlib.image.AxesImage at 0x786104cb5690>"
            ]
          },
          "metadata": {},
          "execution_count": 22
        },
        {
          "output_type": "display_data",
          "data": {
            "text/plain": [
              "<Figure size 640x480 with 1 Axes>"
            ],
            "image/png": "[encoded data removed]"
          },
          "metadata": {}
        }
      ],
      "source": [
        "# numpy array to image\n",
        "import matplotlib.pyplot as plt\n",
        "plt.imshow(img)"
      ]
    },
    {
      "cell_type": "code",
      "execution_count": 23,
      "metadata": {
        "id": "gSwMeFFZBPp5"
      },
      "outputs": [],
      "source": [
        "dataloader = DataLoader(dataset, batch_size=10, shuffle=True)"
      ]
    },
    {
      "cell_type": "code",
      "execution_count": 24,
      "metadata": {
        "id": "A5ysCPiUBPp5",
        "outputId": "34eaa44d-50d4-46a4-d6de-23995149a1ac",
        "colab": {
          "base_uri": "https://localhost:8080/"
        }
      },
      "outputs": [
        {
          "output_type": "stream",
          "name": "stdout",
          "text": [
            "batch img shape: torch.Size([10, 28, 28]), batch label shape: torch.Size([10])\n"
          ]
        }
      ],
      "source": [
        "for batch in dataloader:\n",
        "    imgs, labels = batch\n",
        "    print(f'batch img shape: {imgs.shape}, batch label shape: {labels.shape}')\n",
        "    break"
      ]
    },
    {
      "cell_type": "code",
      "execution_count": 25,
      "metadata": {
        "id": "_e3lOZQkBPp7",
        "outputId": "d9efaa16-ba98-499e-fb60-e4919d9e22aa",
        "colab": {
          "base_uri": "https://localhost:8080/"
        }
      },
      "outputs": [
        {
          "output_type": "execute_result",
          "data": {
            "text/plain": [
              "tensor([6, 3, 5, 3, 8, 4, 7, 7, 8, 9])"
            ]
          },
          "metadata": {},
          "execution_count": 25
        }
      ],
      "source": [
        "labels"
      ]
    },
    {
      "cell_type": "markdown",
      "metadata": {
        "id": "mPx6KdV3BPp7"
      },
      "source": [
        "### 2-2. Deep Learning Tutorial"
      ]
    },
    {
      "cell_type": "markdown",
      "metadata": {
        "id": "MU6CBSCHBPp7"
      },
      "source": [
        "#### 2-2-1. Dataset and Datalader"
      ]
    },
    {
      "cell_type": "code",
      "execution_count": 26,
      "metadata": {
        "id": "IQOsPeqXBPp8"
      },
      "outputs": [],
      "source": [
        "from torchvision import datasets\n",
        "from torchvision.transforms import ToTensor\n",
        "\n",
        "# Set dataset\n",
        "train_data = datasets.MNIST(root=\"data\", train=True, download=True, transform=ToTensor())\n",
        "test_data = datasets.MNIST(root=\"data\", train=False, download=True, transform=ToTensor())\n",
        "\n",
        "# Set dataloader\n",
        "batch_size = 64\n",
        "train_loader = DataLoader(train_data, batch_size=batch_size, shuffle=True)\n",
        "test_loader = DataLoader(test_data, batch_size=batch_size, shuffle=False)"
      ]
    },
    {
      "cell_type": "code",
      "execution_count": 27,
      "metadata": {
        "id": "tTJ_YIr0BPp8",
        "outputId": "ebae5497-0663-470e-f4a5-bcf3a9046370",
        "colab": {
          "base_uri": "https://localhost:8080/",
          "height": 457
        }
      },
      "outputs": [
        {
          "output_type": "stream",
          "name": "stdout",
          "text": [
            "example data shape:  torch.Size([64, 1, 28, 28])\n"
          ]
        },
        {
          "output_type": "display_data",
          "data": {
            "text/plain": [
              "<Figure size 640x480 with 6 Axes>"
            ],
            "image/png": "[encoded data removed]"
          },
          "metadata": {}
        }
      ],
      "source": [
        "import matplotlib.pyplot as plt\n",
        "\n",
        "examples = enumerate(test_loader)\n",
        "batch_idx, (example_data, example_targets) = next(examples)\n",
        "print(\"example data shape: \", example_data.shape)\n",
        "\n",
        "fig = plt.figure()\n",
        "for i in range(6):\n",
        "  plt.subplot(2,3,i+1)\n",
        "  plt.tight_layout()\n",
        "  plt.imshow(example_data[i][0], cmap='gray', interpolation='none')\n",
        "  plt.title(\"Ground Truth: {}\".format(example_targets[i]))\n",
        "  plt.xticks([])\n",
        "  plt.yticks([])"
      ]
    },
    {
      "cell_type": "markdown",
      "metadata": {
        "id": "Jg5pLPicBPp8"
      },
      "source": [
        "#### 2-2-2. Creating a Model"
      ]
    },
    {
      "cell_type": "code",
      "execution_count": 28,
      "metadata": {
        "id": "2WWqEcBVBPp8"
      },
      "outputs": [],
      "source": [
        "import torch.nn as nn\n",
        "import torch.nn.functional as F\n",
        "\n",
        "class Simple_NN(nn.Module):\n",
        "    '''\n",
        "    - input shape: (1, 28, 28)\n",
        "    - fc1: apply a linear transformation. output features should be 128\n",
        "    - fc2: apply a linear transformation. output features should be 64\n",
        "    - classifier: apply a linear transformation. output features should be the class size (10)\n",
        "\n",
        "    * input -> fc1 -> relu -> fc2 -> relu -> classifier\n",
        "    * nn.Linear() for fc layer\n",
        "     ex) fc = nn.Linear(input_dim, output_dim)\n",
        "         y = fc(x)\n",
        "    '''\n",
        "    def __init__(self):\n",
        "        super(Simple_NN, self).__init__()\n",
        "\n",
        "        self.fc1 = nn.Linear(784, 128)\n",
        "        self.fc2 = nn.Linear(128, 64)\n",
        "        self.classifier = nn.Linear(64, 10)\n",
        "\n",
        "\n",
        "    def forward(self, x):\n",
        "        x = x.reshape(-1, 784) # Note: To apply fc layer, input should be flattened (784 = 28*28)\n",
        "\n",
        "        x = self.fc1(x)\n",
        "        x = F.relu(x)\n",
        "        x = self.fc2(x)\n",
        "        x = F.relu(x)\n",
        "        x = self.classifier(x)\n",
        "\n",
        "        return x"
      ]
    },
    {
      "cell_type": "code",
      "execution_count": 29,
      "metadata": {
        "id": "4giQ8z3GBPp8",
        "outputId": "554cb3cd-c45f-44c9-908d-e5b40a871599",
        "colab": {
          "base_uri": "https://localhost:8080/"
        }
      },
      "outputs": [
        {
          "output_type": "stream",
          "name": "stdout",
          "text": [
            "Simple_NN(\n",
            "  (fc1): Linear(in_features=784, out_features=128, bias=True)\n",
            "  (fc2): Linear(in_features=128, out_features=64, bias=True)\n",
            "  (classifier): Linear(in_features=64, out_features=10, bias=True)\n",
            ")\n"
          ]
        }
      ],
      "source": [
        "model = Simple_NN()\n",
        "print(model)"
      ]
    },
    {
      "cell_type": "markdown",
      "metadata": {
        "id": "bVS7FWf0BPqB"
      },
      "source": [
        "#### 2-2-3. Training a Model"
      ]
    },
    {
      "cell_type": "code",
      "execution_count": 30,
      "metadata": {
        "id": "TvpxWRvoBPqB"
      },
      "outputs": [],
      "source": [
        "from tqdm import tqdm\n",
        "\n",
        "def train(model, train_loader, loss_fn, optimizer, epochs, device, scheduler):\n",
        "    # (1) Set the mode to train and its device\n",
        "    model.to(device)\n",
        "    model.train()\n",
        "\n",
        "    for epoch in range(epochs):\n",
        "        train_loss = 0.0\n",
        "\n",
        "        for batch in tqdm(train_loader):\n",
        "            # (2) Initialize Gradients\n",
        "            optimizer.zero_grad()\n",
        "\n",
        "            # (3) Get input and target from batch and set their device\n",
        "            input, target = batch\n",
        "            input, target = input.to(device), target.to(device)\n",
        "\n",
        "            # (4) Calculate loss and Backpropagate to calculate the gradient\n",
        "            output = model(input)\n",
        "            loss = loss_fn(output, target)\n",
        "            loss.backward()\n",
        "\n",
        "            # (5) Update model parameters using the optimizer\n",
        "            optimizer.step()\n",
        "\n",
        "            train_loss += loss.detach().item()\n",
        "\n",
        "        # (8) Update the scheduler\n",
        "        scheduler.step()\n",
        "\n",
        "        # (9) Calculate the average loss in this epoch\n",
        "        train_loss /= len(train_loader.dataset)\n",
        "        print(f'Epoch: {epoch+1}, Training Loss: {train_loss}')"
      ]
    },
    {
      "cell_type": "code",
      "execution_count": 31,
      "metadata": {
        "id": "XfSnL9S2BPqC"
      },
      "outputs": [],
      "source": [
        "import torch.nn as nn\n",
        "import torch.optim as optim\n",
        "\n",
        "loss_fn = nn.CrossEntropyLoss()\n",
        "optimizer = optim.SGD(model.parameters(), lr=1e-2, momentum=0.9)\n",
        "scheduler = optim.lr_scheduler.ExponentialLR(optimizer, gamma=0.9)\n",
        "\n",
        "epochs = 3\n",
        "device = torch.device(\"cuda\" if torch.cuda.is_available() else \"cpu\")"
      ]
    },
    {
      "cell_type": "code",
      "execution_count": 32,
      "metadata": {
        "id": "je5YNbpsBPqC",
        "outputId": "056c9188-8cef-43d1-cdea-3fd939269501",
        "colab": {
          "base_uri": "https://localhost:8080/"
        }
      },
      "outputs": [
        {
          "output_type": "stream",
          "name": "stderr",
          "text": [
            "100%|██████████| 938/938 [00:08<00:00, 108.01it/s]\n"
          ]
        },
        {
          "output_type": "stream",
          "name": "stdout",
          "text": [
            "Epoch: 1, Training Loss: 0.008731896149367094\n"
          ]
        },
        {
          "output_type": "stream",
          "name": "stderr",
          "text": [
            "100%|██████████| 938/938 [00:07<00:00, 124.51it/s]\n"
          ]
        },
        {
          "output_type": "stream",
          "name": "stdout",
          "text": [
            "Epoch: 2, Training Loss: 0.0032528725956877075\n"
          ]
        },
        {
          "output_type": "stream",
          "name": "stderr",
          "text": [
            "100%|██████████| 938/938 [00:07<00:00, 117.67it/s]"
          ]
        },
        {
          "output_type": "stream",
          "name": "stdout",
          "text": [
            "Epoch: 3, Training Loss: 0.0023094996612519026\n"
          ]
        },
        {
          "output_type": "stream",
          "name": "stderr",
          "text": [
            "\n"
          ]
        }
      ],
      "source": [
        "train(model, train_loader, loss_fn, optimizer, epochs, device, scheduler)"
      ]
    },
    {
      "cell_type": "markdown",
      "metadata": {
        "id": "ONnFFcH2BPqC"
      },
      "source": [
        "#### 2-2-4. Testing a Model"
      ]
    },
    {
      "cell_type": "code",
      "execution_count": 33,
      "metadata": {
        "id": "Ut4UguZvBPqC"
      },
      "outputs": [],
      "source": [
        "def test(model, test_loader, device):\n",
        "    # Set the mode to train and its device\n",
        "    model.to(device)\n",
        "    model.eval()\n",
        "\n",
        "    with torch.no_grad():\n",
        "        correct = 0\n",
        "        for batch in tqdm(test_loader):\n",
        "            # Get input and target from batch and set their device\n",
        "            input, target = batch\n",
        "            input, target = input.to(device), target.to(device)\n",
        "\n",
        "            # Get output using the model\n",
        "            output = model(input)\n",
        "\n",
        "            # Get count of correctly classified images\n",
        "            pred = output.argmax(dim=1)\n",
        "            correct += (pred == target.reshape(-1)).sum()\n",
        "\n",
        "    print(f'\\nAccuracy: {correct / len(test_loader.dataset)}')"
      ]
    },
    {
      "cell_type": "code",
      "execution_count": 34,
      "metadata": {
        "id": "EKlIkQNhBPqC",
        "outputId": "1fcb4147-9559-4529-e3ec-1b922ec998c5",
        "colab": {
          "base_uri": "https://localhost:8080/"
        }
      },
      "outputs": [
        {
          "output_type": "stream",
          "name": "stderr",
          "text": [
            "100%|██████████| 157/157 [00:01<00:00, 133.14it/s]"
          ]
        },
        {
          "output_type": "stream",
          "name": "stdout",
          "text": [
            "\n",
            "Accuracy: 0.9590999484062195\n"
          ]
        },
        {
          "output_type": "stream",
          "name": "stderr",
          "text": [
            "\n"
          ]
        }
      ],
      "source": [
        "test(model, test_loader, device)"
      ]
    },
    {
      "cell_type": "markdown",
      "metadata": {
        "id": "IbvpZS0DBPqD"
      },
      "source": [
        "# 3. Handling Image Dataset"
      ]
    },
    {
      "cell_type": "markdown",
      "metadata": {
        "id": "JkHNz6XrBPqD"
      },
      "source": [
        "### 3-1. CIFAR-10 Dataset and its Augmentation"
      ]
    },
    {
      "cell_type": "code",
      "execution_count": 35,
      "metadata": {
        "id": "VI8oBgg4BPqD"
      },
      "outputs": [],
      "source": [
        "import numpy as np\n",
        "import matplotlib.pyplot as plt\n",
        "from tqdm import tqdm\n",
        "\n",
        "import torch\n",
        "import torch.nn as nn\n",
        "import torch.nn.functional as F\n",
        "import torchvision\n",
        "from torchvision import transforms, datasets\n",
        "from torchvision.transforms import ToTensor\n",
        "from torch.utils.data import Dataset, DataLoader"
      ]
    },
    {
      "cell_type": "code",
      "execution_count": 36,
      "metadata": {
        "id": "i7YckhEVBPqD",
        "outputId": "608984f3-d9d1-4f11-eaf4-3730df57619c",
        "colab": {
          "base_uri": "https://localhost:8080/"
        }
      },
      "outputs": [
        {
          "output_type": "stream",
          "name": "stdout",
          "text": [
            "Files already downloaded and verified\n",
            "Files already downloaded and verified\n"
          ]
        }
      ],
      "source": [
        "train_dataset = datasets.CIFAR10(root=\"data/CIFAR_10\", train=True, download=True, transform=ToTensor())\n",
        "test_dataset = datasets.CIFAR10(root=\"data/CIFAR_10\", train=False, download=True, transform=ToTensor())\n",
        "\n",
        "batch_size = 8\n",
        "train_loader = DataLoader(dataset=train_dataset, batch_size=batch_size, shuffle=True)\n",
        "test_loader = DataLoader(dataset=test_dataset, batch_size=batch_size, shuffle=False)"
      ]
    },
    {
      "cell_type": "code",
      "execution_count": 37,
      "metadata": {
        "id": "o6nC-3isBPqD"
      },
      "outputs": [],
      "source": [
        "CIFAR10_LABEL = ['airplane', 'automobile', 'bird', 'cat', 'deer', 'dog', 'frog', 'horse', 'ship', 'truck']\n",
        "\n",
        "def visualize_batch(batch, augment=None):\n",
        "    images, labels = batch\n",
        "    batch_size = images.shape[0]\n",
        "    pltsize = 2\n",
        "    plt.figure(figsize=(batch_size * pltsize, pltsize))\n",
        "    for i in range(batch_size):\n",
        "        plt.subplot(1, batch_size, i + 1)\n",
        "        plt.axis('off')\n",
        "        plt.imshow(np.transpose(augment(images[i]) if augment else images[i], (1, 2, 0)))\n",
        "        plt.title('Class: ' + str(CIFAR10_LABEL[labels[i].item()]))"
      ]
    },
    {
      "cell_type": "code",
      "execution_count": 38,
      "metadata": {
        "id": "uQ3FcgKSBPqD",
        "outputId": "43c6ed23-72eb-415b-b126-d0ac30cdcc71",
        "colab": {
          "base_uri": "https://localhost:8080/",
          "height": 191
        }
      },
      "outputs": [
        {
          "output_type": "display_data",
          "data": {
            "text/plain": [
              "<Figure size 1600x200 with 8 Axes>"
            ],
            "image/png": "[encoded data removed]"
          },
          "metadata": {}
        }
      ],
      "source": [
        "sample_batch = next(iter(train_loader))\n",
        "visualize_batch(sample_batch)"
      ]
    },
    {
      "cell_type": "code",
      "execution_count": 39,
      "metadata": {
        "id": "qJNMewzFBPqE",
        "outputId": "fab984b4-0a6e-4f4c-dd65-305713353d09",
        "colab": {
          "base_uri": "https://localhost:8080/",
          "height": 191
        }
      },
      "outputs": [
        {
          "output_type": "display_data",
          "data": {
            "text/plain": [
              "<Figure size 1600x200 with 8 Axes>"
            ],
            "image/png": "[encoded data removed]"
          },
          "metadata": {}
        }
      ],
      "source": [
        "augment = transforms.RandomHorizontalFlip(p=0.5)\n",
        "visualize_batch(sample_batch, augment=augment)"
      ]
    },
    {
      "cell_type": "code",
      "execution_count": 40,
      "metadata": {
        "id": "-cQlYD_tBPqE",
        "outputId": "5b204fc0-859f-4023-a546-da32ee7c8006",
        "colab": {
          "base_uri": "https://localhost:8080/",
          "height": 191
        }
      },
      "outputs": [
        {
          "output_type": "display_data",
          "data": {
            "text/plain": [
              "<Figure size 1600x200 with 8 Axes>"
            ],
            "image/png": "[encoded data removed]"
          },
          "metadata": {}
        }
      ],
      "source": [
        "augment = transforms.Grayscale(num_output_channels=3)\n",
        "visualize_batch(sample_batch, augment=augment)"
      ]
    },
    {
      "cell_type": "code",
      "execution_count": 41,
      "metadata": {
        "id": "TNLTSLqjBPqE",
        "outputId": "1aa73adf-f0a1-4cb6-ec1e-58ec853f0527",
        "colab": {
          "base_uri": "https://localhost:8080/",
          "height": 191
        }
      },
      "outputs": [
        {
          "output_type": "display_data",
          "data": {
            "text/plain": [
              "<Figure size 1600x200 with 8 Axes>"
            ],
            "image/png": "[encoded data removed]"
          },
          "metadata": {}
        }
      ],
      "source": [
        "augment = transforms.ColorJitter(brightness=0.5, contrast=0.5, saturation=0.5, hue=0.5)\n",
        "visualize_batch(sample_batch, augment=augment)"
      ]
    },
    {
      "cell_type": "code",
      "execution_count": null,
      "metadata": {
        "id": "oRH04ju3BPqE"
      },
      "outputs": [],
      "source": [
        "# augment = transforms.RandomVerticalFlip(p=0.5)\n",
        "# augment = transforms.RandomResizedCrop((200, 200), scale=(0.1, 1), ratio=(0.5, 2))\n",
        "# visualize_batch(sample_batch, augment=augment)"
      ]
    },
    {
      "cell_type": "markdown",
      "metadata": {
        "id": "fZMkj8fbBPqE"
      },
      "source": [
        "### 3-2. Data Augmentation in DataLoader"
      ]
    },
    {
      "cell_type": "code",
      "execution_count": 42,
      "metadata": {
        "id": "FCuwgXU-BPqE"
      },
      "outputs": [],
      "source": [
        "def collate_fn(data_samples):\n",
        "    batch_x, batch_y = [], []\n",
        "\n",
        "    ### AUGMENTATION ###\n",
        "    augment_transform = transforms.Compose([\n",
        "        transforms.ColorJitter(brightness=0.5),\n",
        "        transforms.RandomHorizontalFlip(p=0.5),\n",
        "    ])\n",
        "\n",
        "    for image, label in data_samples:\n",
        "        image = augment_transform(image)  ### AUGMENTATION\n",
        "        label = torch.Tensor([label])\n",
        "        batch_x.append(image)\n",
        "        batch_y.append(label)\n",
        "    batch_x = torch.stack(batch_x).float()\n",
        "    batch_y = torch.cat(batch_y).long()\n",
        "\n",
        "    return (batch_x, batch_y)"
      ]
    },
    {
      "cell_type": "code",
      "execution_count": 43,
      "metadata": {
        "id": "Ljq0kTihBPqF"
      },
      "outputs": [],
      "source": [
        "batch_size = 8\n",
        "train_loader = DataLoader(dataset=train_dataset, batch_size=batch_size, shuffle=True, collate_fn=collate_fn)\n",
        "test_loader = DataLoader(dataset=test_dataset, batch_size=batch_size, shuffle=False, collate_fn=collate_fn)"
      ]
    },
    {
      "cell_type": "code",
      "execution_count": 44,
      "metadata": {
        "id": "PZLJEKl4BPqF",
        "outputId": "c9aacfc2-f1d1-4213-c53d-c57f63ff3191",
        "colab": {
          "base_uri": "https://localhost:8080/",
          "height": 191
        }
      },
      "outputs": [
        {
          "output_type": "display_data",
          "data": {
            "text/plain": [
              "<Figure size 1600x200 with 8 Axes>"
            ],
            "image/png": "[encoded data removed]"
          },
          "metadata": {}
        }
      ],
      "source": [
        "sample_batch = next(iter(train_loader))\n",
        "visualize_batch(sample_batch)"
      ]
    },
    {
      "cell_type": "markdown",
      "metadata": {
        "id": "xz-e5mkCBPqF"
      },
      "source": [
        "# 4. Implementation of CNN"
      ]
    },
    {
      "cell_type": "code",
      "execution_count": 47,
      "metadata": {
        "id": "v6r35bL_BPqF"
      },
      "outputs": [],
      "source": [
        "class CNN(nn.Module):\n",
        "    def __init__(self):\n",
        "        super().__init__()\n",
        "\n",
        "        self.conv = nn.Sequential(\n",
        "            nn.Conv2d(in_channels=3, out_channels=8, kernel_size=3, padding=1),\n",
        "            nn.ReLU(),\n",
        "            nn.MaxPool2d(kernel_size=2, stride=2),\n",
        "            nn.Flatten(),\n",
        "            nn.Linear(in_features=8*16*16, out_features=10),\n",
        "        )\n",
        "\n",
        "    def forward(self, x):\n",
        "        x = self.conv(x)\n",
        "        return x"
      ]
    },
    {
      "cell_type": "code",
      "execution_count": 50,
      "metadata": {
        "id": "Fi9ykomwBPqF"
      },
      "outputs": [],
      "source": [
        "device = torch.device(\"cuda\" if torch.cuda.is_available() else \"cpu\")\n",
        "\n",
        "model = CNN()\n",
        "\n",
        "loss_fn = nn.CrossEntropyLoss()\n",
        "optimizer = optim.Adam(model.parameters(), lr=1e-2)\n",
        "scheduler = optim.lr_scheduler.ExponentialLR(optimizer, gamma=0.9)\n",
        "\n",
        "epochs = 3"
      ]
    },
    {
      "cell_type": "code",
      "execution_count": 51,
      "metadata": {
        "id": "EReqWgaXBPqG",
        "outputId": "3f19a6bf-211b-4640-d393-c936a1a7c62f",
        "colab": {
          "base_uri": "https://localhost:8080/"
        }
      },
      "outputs": [
        {
          "output_type": "stream",
          "name": "stderr",
          "text": [
            "100%|██████████| 6250/6250 [00:29<00:00, 210.23it/s]\n"
          ]
        },
        {
          "output_type": "stream",
          "name": "stdout",
          "text": [
            "Epoch: 1, Training Loss: 0.2505252362561226\n"
          ]
        },
        {
          "output_type": "stream",
          "name": "stderr",
          "text": [
            "100%|██████████| 6250/6250 [00:29<00:00, 212.03it/s]\n"
          ]
        },
        {
          "output_type": "stream",
          "name": "stdout",
          "text": [
            "Epoch: 2, Training Loss: 0.23863067512869834\n"
          ]
        },
        {
          "output_type": "stream",
          "name": "stderr",
          "text": [
            "100%|██████████| 6250/6250 [00:29<00:00, 208.84it/s]"
          ]
        },
        {
          "output_type": "stream",
          "name": "stdout",
          "text": [
            "Epoch: 3, Training Loss: 0.23123361836194992\n"
          ]
        },
        {
          "output_type": "stream",
          "name": "stderr",
          "text": [
            "\n"
          ]
        }
      ],
      "source": [
        "train(model, train_loader, loss_fn, optimizer, epochs, device, scheduler)"
      ]
    },
    {
      "cell_type": "code",
      "execution_count": 52,
      "metadata": {
        "id": "I1sNVmwIBPqG",
        "outputId": "21549d07-fcf6-4adf-c830-c97dc7285446",
        "colab": {
          "base_uri": "https://localhost:8080/"
        }
      },
      "outputs": [
        {
          "output_type": "stream",
          "name": "stderr",
          "text": [
            "100%|██████████| 1250/1250 [00:05<00:00, 235.17it/s]"
          ]
        },
        {
          "output_type": "stream",
          "name": "stdout",
          "text": [
            "\n",
            "Accuracy: 0.3482999801635742\n"
          ]
        },
        {
          "output_type": "stream",
          "name": "stderr",
          "text": [
            "\n"
          ]
        }
      ],
      "source": [
        "test(model, test_loader, device)"
      ]
    }
  ],
  "metadata": {
    "kernelspec": {
      "display_name": "Python 3",
      "name": "python3"
    },
    "language_info": {
      "codemirror_mode": {
        "name": "ipython",
        "version": 3
      },
      "file_extension": ".py",
      "mimetype": "text/x-python",
      "name": "python",
      "nbconvert_exporter": "python",
      "pygments_lexer": "ipython3",
      "version": "3.10.12"
    },
    "colab": {
      "provenance": [],
      "gpuType": "T4"
    },
    "accelerator": "GPU"
  },
  "nbformat": 4,
  "nbformat_minor": 0
}